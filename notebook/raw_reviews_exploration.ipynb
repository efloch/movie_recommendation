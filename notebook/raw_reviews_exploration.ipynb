{
 "cells": [
  {
   "cell_type": "markdown",
   "metadata": {},
   "source": [
    "# Exploration of my friend's movie ratings\n",
    "\n",
    "Some of my friends and I decided to rate the movies we've seen for fun. I've immediatly realized that more than just looking at those could be done and I decided to dig more into it to try to find trends in our rating, identify similarities between the movies we liked and build a movie recommendation tool from those observation. \n",
    "\n",
    "In this notebook, I explore one of my friends' ratings to familiarize myself with the dataset and see what features could be extracted for future analysis. \n",
    "\n",
    "One of the first findings is that the movies seen and rated by my friend are good movies as defined by having a high IMDB score. A finding that encourages me to use his judgement to influence my future movie selection. "
   ]
  },
  {
   "cell_type": "code",
   "execution_count": 223,
   "metadata": {},
   "outputs": [],
   "source": [
    "import os\n",
    "import sys\n",
    "from scipy import stats\n",
    "module_path = os.path.abspath(os.path.join('..'))\n",
    "if module_path not in sys.path:\n",
    "    sys.path.append(module_path)\n",
    "from src.utils import load_raw, pd, sns, plt\n",
    "from src.preprocess.clean_reviews import load_reviews\n",
    "sns.set_palette(\"viridis\")"
   ]
  },
  {
   "cell_type": "markdown",
   "metadata": {},
   "source": [
    "## Exploring the movies that make up the dataset"
   ]
  },
  {
   "cell_type": "code",
   "execution_count": 224,
   "metadata": {},
   "outputs": [
    {
     "name": "stdout",
     "output_type": "stream",
     "text": [
      "16:36:02 - src.utils - INFO - Loading reviews.csv\n"
     ]
    },
    {
     "data": {
      "text/html": [
       "<div>\n",
       "<style scoped>\n",
       "    .dataframe tbody tr th:only-of-type {\n",
       "        vertical-align: middle;\n",
       "    }\n",
       "\n",
       "    .dataframe tbody tr th {\n",
       "        vertical-align: top;\n",
       "    }\n",
       "\n",
       "    .dataframe thead th {\n",
       "        text-align: right;\n",
       "    }\n",
       "</style>\n",
       "<table border=\"1\" class=\"dataframe\">\n",
       "  <thead>\n",
       "    <tr style=\"text-align: right;\">\n",
       "      <th></th>\n",
       "      <th>rank</th>\n",
       "      <th>title</th>\n",
       "      <th>team average</th>\n",
       "      <th>imdbrating</th>\n",
       "      <th>joe</th>\n",
       "      <th>cudennec</th>\n",
       "      <th>pierre-yves</th>\n",
       "      <th>mimline</th>\n",
       "      <th>simon</th>\n",
       "      <th>oliver</th>\n",
       "      <th>...</th>\n",
       "      <th>runtime</th>\n",
       "      <th>genre</th>\n",
       "      <th>actors</th>\n",
       "      <th>plot</th>\n",
       "      <th>country</th>\n",
       "      <th>awards</th>\n",
       "      <th>metascore</th>\n",
       "      <th>imdbid</th>\n",
       "      <th>comment</th>\n",
       "      <th>tags</th>\n",
       "    </tr>\n",
       "  </thead>\n",
       "  <tbody>\n",
       "    <tr>\n",
       "      <td>1</td>\n",
       "      <td>1.0</td>\n",
       "      <td>the Godfather</td>\n",
       "      <td>9.5</td>\n",
       "      <td>9.2</td>\n",
       "      <td>9.5</td>\n",
       "      <td>9.6</td>\n",
       "      <td>9.5</td>\n",
       "      <td>NaN</td>\n",
       "      <td>NaN</td>\n",
       "      <td>NaN</td>\n",
       "      <td>...</td>\n",
       "      <td>175.0</td>\n",
       "      <td>Crime,Drama</td>\n",
       "      <td>Al Pacino,James Caan,Marlon Brando,Richard S. ...</td>\n",
       "      <td>The aging patriarch of an organized crime dyna...</td>\n",
       "      <td>USA</td>\n",
       "      <td>Won 3 Oscars. Another 23 wins &amp; 27 nominations.</td>\n",
       "      <td>100.0</td>\n",
       "      <td>tt0068646</td>\n",
       "      <td>NaN</td>\n",
       "      <td>NaN</td>\n",
       "    </tr>\n",
       "    <tr>\n",
       "      <td>2</td>\n",
       "      <td>212.0</td>\n",
       "      <td>The Godfather: Part II</td>\n",
       "      <td>0.0</td>\n",
       "      <td>9.0</td>\n",
       "      <td>9.6</td>\n",
       "      <td>9.4</td>\n",
       "      <td>9.5</td>\n",
       "      <td>NaN</td>\n",
       "      <td>NaN</td>\n",
       "      <td>NaN</td>\n",
       "      <td>...</td>\n",
       "      <td>202.0</td>\n",
       "      <td>Crime,Drama</td>\n",
       "      <td>Al Pacino,Diane Keaton,Robert De Niro,Robert D...</td>\n",
       "      <td>The early life and career of Vito Corleone in ...</td>\n",
       "      <td>USA</td>\n",
       "      <td>Won 6 Oscars. Another 10 wins &amp; 20 nominations.</td>\n",
       "      <td>85.0</td>\n",
       "      <td>tt0071562</td>\n",
       "      <td>NaN</td>\n",
       "      <td>NaN</td>\n",
       "    </tr>\n",
       "    <tr>\n",
       "      <td>3</td>\n",
       "      <td>212.0</td>\n",
       "      <td>A Clockwork Orange</td>\n",
       "      <td>0.0</td>\n",
       "      <td>8.3</td>\n",
       "      <td>9.3</td>\n",
       "      <td>8.9</td>\n",
       "      <td>9.7</td>\n",
       "      <td>NaN</td>\n",
       "      <td>NaN</td>\n",
       "      <td>NaN</td>\n",
       "      <td>...</td>\n",
       "      <td>136.0</td>\n",
       "      <td>Crime,Drama,Sci-Fi</td>\n",
       "      <td>Malcolm McDowell,Michael Bates,Patrick Magee,W...</td>\n",
       "      <td>In future Britain, Alex DeLarge, a charismatic...</td>\n",
       "      <td>UK,USA</td>\n",
       "      <td>Nominated for 4 Oscars. Another 9 wins &amp; 17 no...</td>\n",
       "      <td>78.0</td>\n",
       "      <td>tt0066921</td>\n",
       "      <td>NaN</td>\n",
       "      <td>NaN</td>\n",
       "    </tr>\n",
       "  </tbody>\n",
       "</table>\n",
       "<p>3 rows × 25 columns</p>\n",
       "</div>"
      ],
      "text/plain": [
       "    rank                   title  team average  imdbrating  joe  cudennec  \\\n",
       "1    1.0           the Godfather           9.5         9.2  9.5       9.6   \n",
       "2  212.0  The Godfather: Part II           0.0         9.0  9.6       9.4   \n",
       "3  212.0      A Clockwork Orange           0.0         8.3  9.3       8.9   \n",
       "\n",
       "   pierre-yves  mimline  simon  oliver  ...  runtime               genre  \\\n",
       "1          9.5      NaN    NaN     NaN  ...    175.0         Crime,Drama   \n",
       "2          9.5      NaN    NaN     NaN  ...    202.0         Crime,Drama   \n",
       "3          9.7      NaN    NaN     NaN  ...    136.0  Crime,Drama,Sci-Fi   \n",
       "\n",
       "                                              actors  \\\n",
       "1  Al Pacino,James Caan,Marlon Brando,Richard S. ...   \n",
       "2  Al Pacino,Diane Keaton,Robert De Niro,Robert D...   \n",
       "3  Malcolm McDowell,Michael Bates,Patrick Magee,W...   \n",
       "\n",
       "                                                plot country  \\\n",
       "1  The aging patriarch of an organized crime dyna...     USA   \n",
       "2  The early life and career of Vito Corleone in ...     USA   \n",
       "3  In future Britain, Alex DeLarge, a charismatic...  UK,USA   \n",
       "\n",
       "                                              awards metascore     imdbid  \\\n",
       "1    Won 3 Oscars. Another 23 wins & 27 nominations.     100.0  tt0068646   \n",
       "2    Won 6 Oscars. Another 10 wins & 20 nominations.      85.0  tt0071562   \n",
       "3  Nominated for 4 Oscars. Another 9 wins & 17 no...      78.0  tt0066921   \n",
       "\n",
       "  comment tags  \n",
       "1     NaN  NaN  \n",
       "2     NaN  NaN  \n",
       "3     NaN  NaN  \n",
       "\n",
       "[3 rows x 25 columns]"
      ]
     },
     "execution_count": 224,
     "metadata": {},
     "output_type": "execute_result"
    }
   ],
   "source": [
    "df = load_reviews()\n",
    "df.head(3)"
   ]
  },
  {
   "cell_type": "code",
   "execution_count": 225,
   "metadata": {},
   "outputs": [
    {
     "name": "stdout",
     "output_type": "stream",
     "text": [
      "<class 'pandas.core.frame.DataFrame'>\n",
      "RangeIndex: 3929 entries, 1 to 3929\n",
      "Data columns (total 25 columns):\n",
      "rank            3819 non-null float64\n",
      "title           3819 non-null object\n",
      "team average    3897 non-null float64\n",
      "imdbrating      3796 non-null float64\n",
      "joe             145 non-null float64\n",
      "cudennec        312 non-null float64\n",
      "pierre-yves     97 non-null float64\n",
      "mimline         54 non-null float64\n",
      "simon           0 non-null float64\n",
      "oliver          1 non-null float64\n",
      "nina            0 non-null float64\n",
      "tim             0 non-null float64\n",
      "# of seen       3819 non-null float64\n",
      "year            3819 non-null float64\n",
      "director        3811 non-null object\n",
      "runtime         862 non-null float64\n",
      "genre           3813 non-null object\n",
      "actors          3792 non-null object\n",
      "plot            3787 non-null object\n",
      "country         3801 non-null object\n",
      "awards          3277 non-null object\n",
      "metascore       2986 non-null float64\n",
      "imdbid          863 non-null object\n",
      "comment         0 non-null float64\n",
      "tags            2 non-null object\n",
      "dtypes: float64(16), object(9)\n",
      "memory usage: 767.5+ KB\n"
     ]
    }
   ],
   "source": [
    "df.info()"
   ]
  },
  {
   "cell_type": "code",
   "execution_count": 226,
   "metadata": {},
   "outputs": [
    {
     "name": "stdout",
     "output_type": "stream",
     "text": [
      "Movie counts:  3813\n"
     ]
    }
   ],
   "source": [
    "df['country'] = df['country'].str.split(',')\n",
    "print(\"Movie counts: \",len(df['title'].unique()))"
   ]
  },
  {
   "cell_type": "markdown",
   "metadata": {},
   "source": [
    "We can start by looking when those movies were produced and where were the production teams form using the \"year\" and \"country\" features. "
   ]
  },
  {
   "cell_type": "code",
   "execution_count": 227,
   "metadata": {},
   "outputs": [
    {
     "data": {
      "text/html": [
       "<div>\n",
       "<style scoped>\n",
       "    .dataframe tbody tr th:only-of-type {\n",
       "        vertical-align: middle;\n",
       "    }\n",
       "\n",
       "    .dataframe tbody tr th {\n",
       "        vertical-align: top;\n",
       "    }\n",
       "\n",
       "    .dataframe thead th {\n",
       "        text-align: right;\n",
       "    }\n",
       "</style>\n",
       "<table border=\"1\" class=\"dataframe\">\n",
       "  <thead>\n",
       "    <tr style=\"text-align: right;\">\n",
       "      <th></th>\n",
       "      <th>country</th>\n",
       "      <th>title</th>\n",
       "    </tr>\n",
       "  </thead>\n",
       "  <tbody>\n",
       "    <tr>\n",
       "      <td>83</td>\n",
       "      <td>USA</td>\n",
       "      <td>3278</td>\n",
       "    </tr>\n",
       "    <tr>\n",
       "      <td>82</td>\n",
       "      <td>UK</td>\n",
       "      <td>597</td>\n",
       "    </tr>\n",
       "    <tr>\n",
       "      <td>26</td>\n",
       "      <td>Germany</td>\n",
       "      <td>315</td>\n",
       "    </tr>\n",
       "    <tr>\n",
       "      <td>24</td>\n",
       "      <td>France</td>\n",
       "      <td>310</td>\n",
       "    </tr>\n",
       "    <tr>\n",
       "      <td>15</td>\n",
       "      <td>Canada</td>\n",
       "      <td>265</td>\n",
       "    </tr>\n",
       "    <tr>\n",
       "      <td>...</td>\n",
       "      <td>...</td>\n",
       "      <td>...</td>\n",
       "    </tr>\n",
       "    <tr>\n",
       "      <td>57</td>\n",
       "      <td>Nigeria</td>\n",
       "      <td>1</td>\n",
       "    </tr>\n",
       "    <tr>\n",
       "      <td>64</td>\n",
       "      <td>Puerto Rico</td>\n",
       "      <td>1</td>\n",
       "    </tr>\n",
       "    <tr>\n",
       "      <td>36</td>\n",
       "      <td>Iraq</td>\n",
       "      <td>1</td>\n",
       "    </tr>\n",
       "    <tr>\n",
       "      <td>43</td>\n",
       "      <td>Kazakhstan</td>\n",
       "      <td>1</td>\n",
       "    </tr>\n",
       "    <tr>\n",
       "      <td>29</td>\n",
       "      <td>Guadeloupe</td>\n",
       "      <td>1</td>\n",
       "    </tr>\n",
       "  </tbody>\n",
       "</table>\n",
       "<p>88 rows × 2 columns</p>\n",
       "</div>"
      ],
      "text/plain": [
       "        country  title\n",
       "83          USA   3278\n",
       "82           UK    597\n",
       "26      Germany    315\n",
       "24       France    310\n",
       "15       Canada    265\n",
       "..          ...    ...\n",
       "57      Nigeria      1\n",
       "64  Puerto Rico      1\n",
       "36         Iraq      1\n",
       "43   Kazakhstan      1\n",
       "29   Guadeloupe      1\n",
       "\n",
       "[88 rows x 2 columns]"
      ]
     },
     "execution_count": 227,
     "metadata": {},
     "output_type": "execute_result"
    }
   ],
   "source": [
    "df_where = df.explode('country')\n",
    "df_where['country'] = df_where['country'].str.strip()\n",
    "df_where = df_where.groupby('country', as_index=False)['title'].count()\n",
    "df_where= df_where.sort_values('title', ascending=False)\n",
    "df_where"
   ]
  },
  {
   "cell_type": "code",
   "execution_count": 228,
   "metadata": {},
   "outputs": [
    {
     "name": "stdout",
     "output_type": "stream",
     "text": [
      "Number of country : 88\n"
     ]
    }
   ],
   "source": [
    "print(\"Number of country :\", len(df_where['country'].unique()))"
   ]
  },
  {
   "cell_type": "code",
   "execution_count": 229,
   "metadata": {},
   "outputs": [
    {
     "data": {
      "text/plain": [
       "Text(0.5, 0, 'Producing country')"
      ]
     },
     "execution_count": 229,
     "metadata": {},
     "output_type": "execute_result"
    },
    {
     "data": {
      "image/png": "[encoded data removed]",
      "text/plain": [
       "<Figure size 432x288 with 1 Axes>"
      ]
     },
     "metadata": {},
     "output_type": "display_data"
    }
   ],
   "source": [
    "nb_countries = 20\n",
    "palette = sns.color_palette('viridis', nb_countries)\n",
    "sns.barplot(x='country', y='title', data = df_where.iloc[:nb_countries], palette=palette)\n",
    "plt.xticks(rotation=40,horizontalalignment=\"right\")\n",
    "plt.ylabel('Number of film')\n",
    "plt.xlabel('Producing country')"
   ]
  },
  {
   "cell_type": "markdown",
   "metadata": {},
   "source": [
    "Most of the movie were produced by U.S. production teams. The number of movies part produced by american prod teams is higher than the number of movies because more titles are missing. \n",
    "The U.K., Germany, France, and Canada are represented in similar proportion in this dataset. \n",
    "These figures are not surprising because Amazon has own ImDB since 1998. "
   ]
  },
  {
   "cell_type": "code",
   "execution_count": 235,
   "metadata": {},
   "outputs": [
    {
     "data": {
      "text/plain": [
       "Text(0.5, 0, 'Release year')"
      ]
     },
     "execution_count": 235,
     "metadata": {},
     "output_type": "execute_result"
    },
    {
     "data": {
      "image/png": "[encoded data removed]",
      "text/plain": [
       "<Figure size 432x288 with 1 Axes>"
      ]
     },
     "metadata": {},
     "output_type": "display_data"
    }
   ],
   "source": [
    "df_when = df.groupby('year', as_index=False)['title'].count()\n",
    "sns.lineplot(x='year', y='title', data=df_when)\n",
    "plt.ylabel('Number of film')\n",
    "plt.xlabel('Release year')"
   ]
  },
  {
   "cell_type": "markdown",
   "metadata": {},
   "source": [
    "As expected, the number of film is sharply increasing between the 1990 and now. It would be interesting to see if those number compare to the total movie produced over time of if it biased toward the la"
   ]
  },
  {
   "cell_type": "markdown",
   "metadata": {},
   "source": [
    "## Exploring Cudennec ratings"
   ]
  },
  {
   "cell_type": "markdown",
   "metadata": {},
   "source": [
    "Across all these reviews, we can see that Thibault has rated the most number of movies with 312 ratings. Joe, PY and Mimline have also rated some movies but probably not enough to extract some good insight. \n",
    "We can thus start by exploring the movies rated by Cudennec to try to understand what influences its vote and what features we might want to extract for further analysis. \n",
    "\n",
    "First we can take a look at the distribution of his ratings. "
   ]
  },
  {
   "cell_type": "code",
   "execution_count": 201,
   "metadata": {},
   "outputs": [
    {
     "data": {
      "text/plain": [
       "Text(0.5, 1.0, \"DIstribution of Thibault's movie ratings\")"
      ]
     },
     "execution_count": 201,
     "metadata": {},
     "output_type": "execute_result"
    },
    {
     "data": {
      "image/png": "[encoded data removed]",
      "text/plain": [
       "<Figure size 864x288 with 1 Axes>"
      ]
     },
     "metadata": {},
     "output_type": "display_data"
    }
   ],
   "source": [
    "plt.figure(figsize=(12,4))\n",
    "sns.distplot(df['cudennec'].dropna())\n",
    "plt.xlabel(\"Movie rating\")\n",
    "plt.ylabel(\"Frequency\")\n",
    "plt.title(\"DIstribution of Thibault's movie ratings\")"
   ]
  },
  {
   "cell_type": "markdown",
   "metadata": {},
   "source": [
    "We can see that his score distribution is highly left-skewed, which means that on average his scores are quite high. "
   ]
  },
  {
   "cell_type": "code",
   "execution_count": 202,
   "metadata": {},
   "outputs": [
    {
     "data": {
      "text/plain": [
       "count    312.00000\n",
       "mean       8.15641\n",
       "std        1.03853\n",
       "min        2.00000\n",
       "25%        7.80000\n",
       "50%        8.45000\n",
       "75%        8.90000\n",
       "max       10.00000\n",
       "Name: cudennec, dtype: float64"
      ]
     },
     "execution_count": 202,
     "metadata": {},
     "output_type": "execute_result"
    }
   ],
   "source": [
    "df['cudennec'].dropna().describe()"
   ]
  },
  {
   "cell_type": "markdown",
   "metadata": {},
   "source": [
    "That observation is confirmed by the summary stats of his scores where we can notice that his  a first quartile is at 7.8. \n",
    "\n",
    "Two hypothesis can explain those high scores: either Thibault has seen mainly good movies or he is very optimistic about the one he's seen. "
   ]
  },
  {
   "cell_type": "markdown",
   "metadata": {},
   "source": [
    "## Optimistic or cinephile? \n",
    "\n",
    "To test if Thibault has only seen movies worth watching, we can overlay the distribution of scores from IMDB and Metascore to see if the movie were indeed appreciated by the general public. \n"
   ]
  },
  {
   "cell_type": "code",
   "execution_count": 203,
   "metadata": {},
   "outputs": [
    {
     "name": "stdout",
     "output_type": "stream",
     "text": [
      "<class 'pandas.core.frame.DataFrame'>\n",
      "Int64Index: 312 entries, 1 to 886\n",
      "Data columns (total 3 columns):\n",
      "cudennec      312 non-null float64\n",
      "imdbrating    289 non-null float64\n",
      "metascore     223 non-null float64\n",
      "dtypes: float64(3)\n",
      "memory usage: 9.8 KB\n"
     ]
    }
   ],
   "source": [
    "df_cud = df[['cudennec', 'imdbrating','metascore']][~df['cudennec'].isnull()]\n",
    "df_cud.info()"
   ]
  },
  {
   "cell_type": "code",
   "execution_count": 204,
   "metadata": {},
   "outputs": [
    {
     "name": "stdout",
     "output_type": "stream",
     "text": [
      "<class 'pandas.core.frame.DataFrame'>\n",
      "Int64Index: 223 entries, 1 to 863\n",
      "Data columns (total 3 columns):\n",
      "cudennec      223 non-null float64\n",
      "imdbrating    223 non-null float64\n",
      "metascore     223 non-null float64\n",
      "dtypes: float64(3)\n",
      "memory usage: 7.0 KB\n"
     ]
    }
   ],
   "source": [
    "df_cud = df_cud.dropna()\n",
    "df_cud.info()"
   ]
  },
  {
   "cell_type": "markdown",
   "metadata": {},
   "source": [
    "We can see that some of the movies rated by Thibault do not have IMDB ratings, we'll only use \n",
    "the subset of 223 movies for which we have all ratings in the distribution plot. We'll also scale down the metascore rating to the [0-10] scale of IMDB. \n"
   ]
  },
  {
   "cell_type": "code",
   "execution_count": 205,
   "metadata": {},
   "outputs": [
    {
     "data": {
      "text/plain": [
       "<matplotlib.legend.Legend at 0x124597128>"
      ]
     },
     "execution_count": 205,
     "metadata": {},
     "output_type": "execute_result"
    },
    {
     "data": {
      "image/png": "[encoded data removed]",
      "text/plain": [
       "<Figure size 864x288 with 1 Axes>"
      ]
     },
     "metadata": {},
     "output_type": "display_data"
    }
   ],
   "source": [
    "plt.figure(figsize=(12,4))\n",
    "sns.distplot(df_cud['cudennec'], label=\"Thibault's ratings\")\n",
    "sns.distplot(df_cud['imdbrating'], label= \"IMDB ratings\")\n",
    "df_cud['metascore']= df_cud['metascore']/10\n",
    "sns.distplot(df_cud['metascore'],label= \"Metascore ratings\")\n",
    "plt.xlabel(\"Movie rating\")\n",
    "plt.ylabel(\"Frequency\")\n",
    "plt.title(\"DIstribution of Thibault's movie ratings against IMDB and Metascore\")\n",
    "plt.legend()"
   ]
  },
  {
   "cell_type": "code",
   "execution_count": 206,
   "metadata": {},
   "outputs": [
    {
     "data": {
      "text/html": [
       "<div>\n",
       "<style scoped>\n",
       "    .dataframe tbody tr th:only-of-type {\n",
       "        vertical-align: middle;\n",
       "    }\n",
       "\n",
       "    .dataframe tbody tr th {\n",
       "        vertical-align: top;\n",
       "    }\n",
       "\n",
       "    .dataframe thead th {\n",
       "        text-align: right;\n",
       "    }\n",
       "</style>\n",
       "<table border=\"1\" class=\"dataframe\">\n",
       "  <thead>\n",
       "    <tr style=\"text-align: right;\">\n",
       "      <th></th>\n",
       "      <th>cudennec</th>\n",
       "      <th>imdbrating</th>\n",
       "      <th>metascore</th>\n",
       "    </tr>\n",
       "  </thead>\n",
       "  <tbody>\n",
       "    <tr>\n",
       "      <td>count</td>\n",
       "      <td>223.000000</td>\n",
       "      <td>223.000000</td>\n",
       "      <td>223.000000</td>\n",
       "    </tr>\n",
       "    <tr>\n",
       "      <td>mean</td>\n",
       "      <td>7.917040</td>\n",
       "      <td>8.040807</td>\n",
       "      <td>7.929148</td>\n",
       "    </tr>\n",
       "    <tr>\n",
       "      <td>std</td>\n",
       "      <td>1.007707</td>\n",
       "      <td>0.444884</td>\n",
       "      <td>1.083788</td>\n",
       "    </tr>\n",
       "    <tr>\n",
       "      <td>min</td>\n",
       "      <td>4.000000</td>\n",
       "      <td>7.000000</td>\n",
       "      <td>5.300000</td>\n",
       "    </tr>\n",
       "    <tr>\n",
       "      <td>25%</td>\n",
       "      <td>7.400000</td>\n",
       "      <td>7.700000</td>\n",
       "      <td>7.200000</td>\n",
       "    </tr>\n",
       "    <tr>\n",
       "      <td>50%</td>\n",
       "      <td>8.000000</td>\n",
       "      <td>8.000000</td>\n",
       "      <td>8.000000</td>\n",
       "    </tr>\n",
       "    <tr>\n",
       "      <td>75%</td>\n",
       "      <td>8.700000</td>\n",
       "      <td>8.300000</td>\n",
       "      <td>8.800000</td>\n",
       "    </tr>\n",
       "    <tr>\n",
       "      <td>max</td>\n",
       "      <td>9.600000</td>\n",
       "      <td>9.300000</td>\n",
       "      <td>10.000000</td>\n",
       "    </tr>\n",
       "  </tbody>\n",
       "</table>\n",
       "</div>"
      ],
      "text/plain": [
       "         cudennec  imdbrating   metascore\n",
       "count  223.000000  223.000000  223.000000\n",
       "mean     7.917040    8.040807    7.929148\n",
       "std      1.007707    0.444884    1.083788\n",
       "min      4.000000    7.000000    5.300000\n",
       "25%      7.400000    7.700000    7.200000\n",
       "50%      8.000000    8.000000    8.000000\n",
       "75%      8.700000    8.300000    8.800000\n",
       "max      9.600000    9.300000   10.000000"
      ]
     },
     "execution_count": 206,
     "metadata": {},
     "output_type": "execute_result"
    }
   ],
   "source": [
    "df_cud.describe()"
   ]
  },
  {
   "cell_type": "code",
   "execution_count": 207,
   "metadata": {},
   "outputs": [
    {
     "name": "stdout",
     "output_type": "stream",
     "text": [
      "Ttest_indResult(statistic=-1.677858682652605, pvalue=0.09407840182209289)\n",
      "Ttest_indResult(statistic=-0.12217496554784311, pvalue=0.9028157300609854)\n"
     ]
    }
   ],
   "source": [
    "print(stats.ttest_ind(df_cud['cudennec'].dropna(),df_cud['imdbrating'].dropna()))\n",
    "print(stats.ttest_ind(df_cud['cudennec'].dropna(),df_cud['metascore'].dropna()))"
   ]
  },
  {
   "cell_type": "markdown",
   "metadata": {},
   "source": [
    "It's interesting to see that the scores from Thibault, IMDB and Metascore have a very similar distribution, showing that those movies are on average highly rated with a median of 8.0, from all sources. The t-test also allows use to confirm that the ratings average is not significantly different between each source. This confirms that the movies rated by Thibault were also enjoyed by the general viewer and could be qualified as goo movies if we believe IMDB is a trusted source to determine the quality of a film. \n",
    "\n",
    "Now another hypothesis comes up: aren't all viewers just very positive about the movies they watch and skew the average rating of all movie to higher scores. To verify that, we need to see how all movie ratings are distributed in the complete list of IMDB rated movie we have here."
   ]
  },
  {
   "cell_type": "code",
   "execution_count": 208,
   "metadata": {},
   "outputs": [
    {
     "data": {
      "text/plain": [
       "Text(0.5, 1.0, 'Distribution of IMDB movie ratings')"
      ]
     },
     "execution_count": 208,
     "metadata": {},
     "output_type": "execute_result"
    },
    {
     "data": {
      "image/png": "[encoded data removed]",
      "text/plain": [
       "<Figure size 864x288 with 1 Axes>"
      ]
     },
     "metadata": {},
     "output_type": "display_data"
    }
   ],
   "source": [
    "plt.figure(figsize=(12,4))\n",
    "sns.distplot(df['imdbrating'].dropna())\n",
    "sns.distplot(df['cudennec'].dropna())\n",
    "plt.xlabel(\"Movie rating\")\n",
    "plt.ylabel(\"Frequency\")\n",
    "plt.title(\"Distribution of IMDB movie ratings\")"
   ]
  },
  {
   "cell_type": "code",
   "execution_count": 209,
   "metadata": {},
   "outputs": [
    {
     "data": {
      "text/plain": [
       "count    3796.000000\n",
       "mean        6.545917\n",
       "std         0.877886\n",
       "min         4.900000\n",
       "25%         5.900000\n",
       "50%         6.500000\n",
       "75%         7.000000\n",
       "max         9.300000\n",
       "Name: imdbrating, dtype: float64"
      ]
     },
     "execution_count": 209,
     "metadata": {},
     "output_type": "execute_result"
    }
   ],
   "source": [
    "df['imdbrating'].dropna().describe()"
   ]
  },
  {
   "cell_type": "code",
   "execution_count": 210,
   "metadata": {},
   "outputs": [
    {
     "data": {
      "text/plain": [
       "Ttest_indResult(statistic=30.688329489977807, pvalue=2.2099999552853006e-186)"
      ]
     },
     "execution_count": 210,
     "metadata": {},
     "output_type": "execute_result"
    }
   ],
   "source": [
    "stats.ttest_ind(df['cudennec'].dropna(),df['imdbrating'].dropna())"
   ]
  },
  {
   "cell_type": "markdown",
   "metadata": {},
   "source": [
    "We get a very different distribution here, confirmed by the t-test that shows that the ratings from IMDB are on average much lower than the ones from the movies rated by Thibault. We see that the median score is 6.5, which let us say that IMDB ratings are slightly more positive that what would be a standard rating scale which could be a modeled as a normal distribution with a mean of 5. \n",
    "\n",
    "\n",
    "We this observations can conclude that the movies seen and rated by Thibault are a good selection, with high scores shared by the public opinion. "
   ]
  },
  {
   "cell_type": "markdown",
   "metadata": {},
   "source": [
    "If IMDB can be seen as a source of truth due to its high number of rating, another source of truth for identifying appreciated and good movie would be the number of awards and nominations received. We will parse the \"award\" column to include thoses features in our analysis. "
   ]
  },
  {
   "cell_type": "code",
   "execution_count": null,
   "metadata": {},
   "outputs": [],
   "source": []
  }
 ],
 "metadata": {
  "kernelspec": {
   "display_name": "Python 3",
   "language": "python",
   "name": "python3"
  },
  "language_info": {
   "codemirror_mode": {
    "name": "ipython",
    "version": 3
   },
   "file_extension": ".py",
   "mimetype": "text/x-python",
   "name": "python",
   "nbconvert_exporter": "python",
   "pygments_lexer": "ipython3",
   "version": "3.6.5"
  }
 },
 "nbformat": 4,
 "nbformat_minor": 2
}
